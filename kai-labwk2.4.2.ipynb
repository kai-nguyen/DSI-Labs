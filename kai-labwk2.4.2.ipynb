{
 "cells": [
  {
   "cell_type": "code",
   "execution_count": 68,
   "metadata": {
    "collapsed": false
   },
   "outputs": [
    {
     "data": {
      "text/plain": [
       "array([ 0.00211836,  0.40545341,  0.28909194])"
      ]
     },
     "execution_count": 68,
     "metadata": {},
     "output_type": "execute_result"
    }
   ],
   "source": [
    "import scipy as sp\n",
    "import numpy as np\n",
    "import matplotlib as mpl\n",
    "import matplotlib.pyplot as plt\n",
    "from scipy import stats\n",
    "from scipy.stats import norm\n",
    "\n",
    "random = norm.rvs(size=3)\n",
    "random"
   ]
  },
  {
   "cell_type": "code",
   "execution_count": 69,
   "metadata": {
    "collapsed": false
   },
   "outputs": [
    {
     "data": {
      "text/plain": [
       "array([  4.71435164e-01,  -1.19097569e+00,   1.43270697e+00,\n",
       "        -3.12651896e-01,  -7.20588733e-01,   8.87162940e-01,\n",
       "         8.59588414e-01,  -6.36523504e-01,   1.56963721e-02,\n",
       "        -2.24268495e+00,   1.15003572e+00,   9.91946022e-01,\n",
       "         9.53324128e-01,  -2.02125482e+00,  -3.34077366e-01,\n",
       "         2.11836468e-03,   4.05453412e-01,   2.89091941e-01,\n",
       "         1.32115819e+00,  -1.54690555e+00,  -2.02646325e-01,\n",
       "        -6.55969344e-01,   1.93421376e-01,   5.53438911e-01,\n",
       "         1.31815155e+00,  -4.69305285e-01,   6.75554085e-01,\n",
       "        -1.81702723e+00,  -1.83108540e-01,   1.05896919e+00,\n",
       "        -3.97840228e-01,   3.37437654e-01,   1.04757857e+00,\n",
       "         1.04593826e+00,   8.63717292e-01,  -1.22091575e-01,\n",
       "         1.24712954e-01,  -3.22794806e-01,   8.41674713e-01,\n",
       "         2.39096052e+00,   7.61995878e-02,  -5.66445930e-01,\n",
       "         3.61419367e-02,  -2.07497760e+00,   2.47792200e-01,\n",
       "        -8.97156784e-01,  -1.36794833e-01,   1.82891913e-02,\n",
       "         7.55413982e-01,   2.15268581e-01,   8.41008795e-01,\n",
       "        -1.44581008e+00,  -1.40197328e+00,  -1.00918200e-01,\n",
       "        -5.48242449e-01,  -1.44619508e-01,   3.54020332e-01,\n",
       "        -3.55130253e-02,   5.65738306e-01,   1.54565880e+00,\n",
       "        -9.74236334e-01,  -7.03448771e-02,   3.07968855e-01,\n",
       "        -2.08498763e-01,   1.03380073e+00,  -2.40045363e+00,\n",
       "         2.03060362e+00,  -1.14263129e+00,   2.11883387e-01,\n",
       "         7.04720624e-01,  -7.85435212e-01,   4.62059737e-01,\n",
       "         7.04228225e-01,   5.23507968e-01,  -9.26254314e-01,\n",
       "         2.00784295e+00,   2.26962542e-01,  -1.15265911e+00,\n",
       "         6.31979446e-01,   3.95126867e-02,   4.64392325e-01,\n",
       "        -3.56351666e+00,   1.32110562e+00,   1.52630552e-01,\n",
       "         1.64529543e-01,  -4.30095691e-01,   7.67368736e-01,\n",
       "         9.84919842e-01,   2.70835849e-01,   1.39198619e+00,\n",
       "         7.98423130e-02,  -3.99964581e-01,  -1.02785056e+00,\n",
       "        -5.84718211e-01,   8.16593927e-01,  -8.19470518e-02,\n",
       "        -3.44766014e-01,   5.28288145e-01,  -1.06898878e+00,\n",
       "        -5.11881309e-01])"
      ]
     },
     "execution_count": 69,
     "metadata": {},
     "output_type": "execute_result"
    }
   ],
   "source": [
    "random = norm.rvs(size=100, random_state=1234)\n",
    "random"
   ]
  },
  {
   "cell_type": "code",
   "execution_count": 70,
   "metadata": {
    "collapsed": false
   },
   "outputs": [
    {
     "name": "stdout",
     "output_type": "stream",
     "text": [
      "Number of elements: 100\n",
      "Minimum: -3.563517 Maximum: 2.390961\n",
      "Mean: 0.035112\n",
      "Variance: 1.001402\n",
      "Skew : -0.639695\n",
      "Kurtosis: 1.100546\n"
     ]
    }
   ],
   "source": [
    "n, min_max, mean, var, skew, kurt = stats.describe(random)\n",
    "print(\"Number of elements: {0:d}\".format(n))\n",
    "print(\"Minimum: {0:8.6f} Maximum: {1:8.6f}\".format(min_max[0], min_max[1]))\n",
    "print(\"Mean: {0:8.6f}\".format(mean))\n",
    "print(\"Variance: {0:8.6f}\".format(var))\n",
    "print(\"Skew : {0:8.6f}\".format(skew))\n",
    "print(\"Kurtosis: {0:8.6f}\".format(kurt))"
   ]
  },
  {
   "cell_type": "code",
   "execution_count": 71,
   "metadata": {
    "collapsed": false
   },
   "outputs": [
    {
     "data": {
      "text/plain": [
       "<function matplotlib.pyplot.show>"
      ]
     },
     "execution_count": 71,
     "metadata": {},
     "output_type": "execute_result"
    },
    {
     "data": {
      "image/png": "[encoded data removed]",
      "text/plain": [
       "<matplotlib.figure.Figure at 0x111d97510>"
      ]
     },
     "metadata": {},
     "output_type": "display_data"
    }
   ],
   "source": [
    "%matplotlib inline\n",
    "plt.hist(random)\n",
    "plt.show"
   ]
  },
  {
   "cell_type": "code",
   "execution_count": 72,
   "metadata": {
    "collapsed": false
   },
   "outputs": [
    {
     "data": {
      "text/plain": [
       "array([  4.71435164e-01,  -1.19097569e+00,   1.43270697e+00,\n",
       "        -3.12651896e-01,  -7.20588733e-01,   8.87162940e-01,\n",
       "         8.59588414e-01,  -6.36523504e-01,   1.56963721e-02,\n",
       "        -2.24268495e+00,   1.15003572e+00,   9.91946022e-01,\n",
       "         9.53324128e-01,  -2.02125482e+00,  -3.34077366e-01,\n",
       "         2.11836468e-03,   4.05453412e-01,   2.89091941e-01,\n",
       "         1.32115819e+00,  -1.54690555e+00,  -2.02646325e-01,\n",
       "        -6.55969344e-01,   1.93421376e-01,   5.53438911e-01,\n",
       "         1.31815155e+00,  -4.69305285e-01,   6.75554085e-01,\n",
       "        -1.81702723e+00,  -1.83108540e-01,   1.05896919e+00,\n",
       "        -3.97840228e-01,   3.37437654e-01,   1.04757857e+00,\n",
       "         1.04593826e+00,   8.63717292e-01,  -1.22091575e-01,\n",
       "         1.24712954e-01,  -3.22794806e-01,   8.41674713e-01,\n",
       "         2.39096052e+00,   7.61995878e-02,  -5.66445930e-01,\n",
       "         3.61419367e-02,  -2.07497760e+00,   2.47792200e-01,\n",
       "        -8.97156784e-01,  -1.36794833e-01,   1.82891913e-02,\n",
       "         7.55413982e-01,   2.15268581e-01,   8.41008795e-01,\n",
       "        -1.44581008e+00,  -1.40197328e+00,  -1.00918200e-01,\n",
       "        -5.48242449e-01,  -1.44619508e-01,   3.54020332e-01,\n",
       "        -3.55130253e-02,   5.65738306e-01,   1.54565880e+00,\n",
       "        -9.74236334e-01,  -7.03448771e-02,   3.07968855e-01,\n",
       "        -2.08498763e-01,   1.03380073e+00,  -2.40045363e+00,\n",
       "         2.03060362e+00,  -1.14263129e+00,   2.11883387e-01,\n",
       "         7.04720624e-01,  -7.85435212e-01,   4.62059737e-01,\n",
       "         7.04228225e-01,   5.23507968e-01,  -9.26254314e-01,\n",
       "         2.00784295e+00,   2.26962542e-01,  -1.15265911e+00,\n",
       "         6.31979446e-01,   3.95126867e-02,   4.64392325e-01,\n",
       "        -3.56351666e+00,   1.32110562e+00,   1.52630552e-01,\n",
       "         1.64529543e-01,  -4.30095691e-01,   7.67368736e-01,\n",
       "         9.84919842e-01,   2.70835849e-01,   1.39198619e+00,\n",
       "         7.98423130e-02,  -3.99964581e-01,  -1.02785056e+00,\n",
       "        -5.84718211e-01,   8.16593927e-01,  -8.19470518e-02,\n",
       "        -3.44766014e-01,   5.28288145e-01,  -1.06898878e+00,\n",
       "        -5.11881309e-01,   2.91205360e-01,   5.66533696e-01,\n",
       "         5.03591759e-01,   2.85295685e-01,   4.84288113e-01,\n",
       "         1.36348151e+00,  -7.81105284e-01,  -4.68017666e-01,\n",
       "         1.22457436e+00,  -1.28110828e+00,   8.75475504e-01,\n",
       "        -1.71071532e+00,  -4.50765103e-01,   7.49163806e-01,\n",
       "        -2.03932866e-01,  -1.82175412e-01,   6.80656004e-01,\n",
       "        -1.81849899e+00,   4.70716353e-02,   3.94844209e-01,\n",
       "        -2.48432054e-01,  -6.17706648e-01,  -6.82883996e-01,\n",
       "         4.36257604e-01,  -1.70301277e+00,   3.93710599e-01,\n",
       "        -4.79324004e-01,  -2.99016293e-01,   6.94103288e-01,\n",
       "         6.78629674e-01,   2.39555995e-01,   1.51226629e-01,\n",
       "         8.16127233e-01,   1.89353447e+00,   6.39632763e-01,\n",
       "        -9.62028832e-01,  -2.08526564e+00,   1.93024677e+00,\n",
       "        -1.73534887e+00,   1.21038370e+00,   7.97435419e-01,\n",
       "        -3.79810784e-01,   7.02562224e-01,  -8.50346272e-01,\n",
       "         1.17681245e+00,  -5.24336103e-01,   7.00907731e-01,\n",
       "         9.84188071e-01,  -1.21728409e-01,   2.36576863e+00,\n",
       "         4.96142926e-01,   7.96594867e-01,  -4.74020890e-01,\n",
       "        -5.66957165e-02,   1.35779726e+00,  -8.04833724e-01,\n",
       "        -2.12362025e+00,  -3.33502440e-01,  -8.86719352e-01,\n",
       "         3.34197931e-01,   5.36783825e-01,  -7.43830368e-01,\n",
       "        -3.20203882e-01,  -9.16198861e-01,  -8.59668300e-01,\n",
       "         2.25985487e-01,   6.28775827e-01,   1.86494349e-01,\n",
       "         9.52478345e-01,   9.88137583e-01,  -7.26083140e-02,\n",
       "        -5.50602924e-01,  -9.38152614e-01,  -1.23907156e+00,\n",
       "         1.39683274e-01,  -2.23018982e-01,   2.12369189e+00,\n",
       "         1.22273434e-01,  -1.40943174e+00,   1.42298595e+00,\n",
       "        -2.14785504e+00,  -1.34753251e+00,   3.63564557e-01,\n",
       "        -1.47521118e-02,   1.27239508e+00,  -1.44956661e+00,\n",
       "        -1.19552374e+00,  -5.91862973e-01,  -4.14504844e-01,\n",
       "        -1.42579473e+00,   2.09394788e-01,  -5.92886004e-01,\n",
       "        -1.47311641e+00,  -8.96580615e-01,   1.10435157e+00,\n",
       "        -4.31549516e-01,  -1.61136908e-01,   8.89157494e-01,\n",
       "         2.88376848e-01,  -1.05153894e+00,  -3.19561400e-01,\n",
       "        -6.19993088e-01,   1.56998376e-01,  -5.71455351e-01,\n",
       "         1.05763318e+00,  -7.91488809e-01,  -5.24627346e-01,\n",
       "         7.18780394e-02,   1.91075943e+00,   7.87964683e-01,\n",
       "         5.13082144e-01,  -5.46416280e-01,   1.04394466e+00,\n",
       "         2.10778515e+00,   1.45992748e+00,   1.01540546e+00,\n",
       "         7.49184601e-01,  -6.75521478e-01,   4.40266392e-01,\n",
       "         6.88971856e-01,  -2.76646127e-01,   1.92453332e+00,\n",
       "         4.11204021e-01,   8.90764956e-01,   2.26363227e-01,\n",
       "        -2.07861789e+00,  -3.87886232e-01,  -8.71069700e-02,\n",
       "         1.12638582e+00,   2.47111716e-01,   1.21171805e-01,\n",
       "         2.98983936e-01,  -1.57099137e-01,  -7.40469023e-01,\n",
       "        -1.24765292e+00,   2.49455215e-01,   5.81073321e-01,\n",
       "         2.76384408e+00,   3.99325437e-01,   6.68488169e-01,\n",
       "        -2.75773729e-01,   5.00482900e-01,   8.63064861e-01,\n",
       "        -1.05162786e+00,  -1.39205408e+00,   1.15392224e+00,\n",
       "         1.18194411e+00,   3.91371448e-01,  -8.81047092e-01,\n",
       "         2.95079960e-01,   1.86380106e+00,  -1.71227392e+00,\n",
       "        -1.40708455e+00,   1.26781186e-01,   3.75984780e-03,\n",
       "        -1.26899426e+00,  -8.38842921e-01,   5.53921251e-01,\n",
       "        -5.04042718e-01,  -7.88440185e-01,   1.52940067e+00,\n",
       "         2.05454854e-01,   3.13013129e-01,   8.66520712e-01,\n",
       "         2.99070530e-01,   1.07654064e+00,   3.63177348e-01,\n",
       "         1.89367983e+00,  -4.85752744e-01,   3.87674456e-01,\n",
       "         2.35576104e-02,  -6.60229502e-01,  -3.18684930e-01,\n",
       "        -7.22662194e-01,   1.77386719e-01,   9.83512729e-01,\n",
       "         2.35045859e-02,   5.53776978e-01,   3.53769294e-01,\n",
       "        -2.75593634e-01,  -4.90483591e-01,  -3.74436600e-01,\n",
       "        -2.39750398e+00,   1.54102998e+00,   6.30845390e-02,\n",
       "        -2.84440684e-01,  -1.26560054e+00,   1.78797963e+00,\n",
       "        -3.54508708e-01,  -1.04761123e-01,   3.86253689e-01,\n",
       "         8.22775374e-01,  -6.83789822e-01,   1.05720333e+00,\n",
       "         3.18799736e-02,   1.34318246e+00,  -5.05396895e-02,\n",
       "        -3.64009956e-01,  -1.55334234e+00,  -3.19297802e-01,\n",
       "         5.27046451e-01,   7.11112399e-01,  -2.17545480e-01,\n",
       "         2.63779121e+00,  -1.74213763e+00,  -9.44348077e-02,\n",
       "         1.43118375e+00,   5.92758447e-01,   1.70296895e-01,\n",
       "        -1.75170595e+00,   2.88581322e-01,  -5.42579517e-01,\n",
       "         1.71602382e-01,   9.82817829e-01,  -2.53489021e-02,\n",
       "        -2.87552449e-01,   9.24442867e-01,  -6.12462999e-02,\n",
       "        -7.31033343e-01,  -1.02277370e+00,   9.95992970e-01,\n",
       "         9.55557933e-01,   7.13840771e-01,   1.33370962e-01,\n",
       "        -8.07038308e-01,  -3.42010782e-01,   1.90877966e+00,\n",
       "         1.55923261e-01,   7.59652532e-01,  -4.23006228e-01,\n",
       "         1.81672745e-01,   2.74492571e-01,   6.79123574e-02,\n",
       "        -3.69828149e-02,  -1.70801031e-01,   2.66973232e-01,\n",
       "         1.38299725e+00,  -2.24608735e-02,   1.31395367e-01,\n",
       "         4.34437185e-01,   2.64534068e-01,   5.65658344e-01,\n",
       "         5.85084280e-01,  -1.74298153e-01,  -1.07136867e+00,\n",
       "        -4.84605026e-02,  -8.45290390e-01,   4.15100558e-01,\n",
       "         4.25530591e-01,  -9.80724358e-01,  -4.27826110e-01,\n",
       "         1.49856996e+00,  -3.60156571e-01,  -4.58240389e-01,\n",
       "        -1.33796840e+00,  -4.13865396e-02,   8.21047956e-01,\n",
       "         2.09780078e+00,   1.28293325e+00,   2.70337926e-01,\n",
       "         1.00314036e+00,   1.07867355e+00,   3.40752685e-01,\n",
       "        -1.98074960e-01,   2.48145842e+00,   1.38525488e+00,\n",
       "        -1.15460097e+00,  -1.26806905e+00,   6.07862186e-01,\n",
       "        -1.08009648e+00,  -6.11281675e-01,   1.02035112e-01,\n",
       "        -1.43657394e+00,   2.10717053e-01,  -8.96904171e-01,\n",
       "        -1.72439308e+00,   1.79233920e+00,  -1.31271271e+00,\n",
       "         5.55877426e-01,  -6.81881305e-01,   1.57274275e+00,\n",
       "        -1.04651575e-01,   1.85039780e+00,  -3.33350427e-01,\n",
       "         1.93464234e-01,  -4.96744938e-01,   1.03272322e+00,\n",
       "        -1.73980380e+00,  -7.55862176e-01,  -8.81111733e-01,\n",
       "         3.93892263e-01,  -9.50025535e-01,   3.32506622e-01,\n",
       "         5.28944409e-01,  -1.12052099e+00,   4.82642069e-02,\n",
       "         6.19884505e-02,  -1.02751567e+00,  -2.38335365e-01,\n",
       "         1.93217817e+00,  -2.26632294e-01,  -9.23830720e-01,\n",
       "         3.55838997e-01,  -1.27006348e+00,  -1.95472413e-01,\n",
       "        -4.63419399e-01,   9.89414847e-01,   1.38864738e+00,\n",
       "         1.08771374e+00,   4.38801263e-01,  -9.61602241e-01,\n",
       "         1.24560994e+00,   5.02925518e-01,  -6.31398778e-01,\n",
       "        -7.04252047e-01,  -2.40482537e-01,   5.85599311e-01,\n",
       "         3.52800560e-01,  -1.81555769e+00,  -9.10123846e-01,\n",
       "        -7.48527953e-01,  -1.08124926e-01,   2.74778837e-01,\n",
       "         2.37349765e-01,  -2.59843694e-01,  -3.12442177e-01,\n",
       "         4.48509743e-01,  -5.95319647e-02,  -4.70014813e-01,\n",
       "         3.49566772e-01,  -1.02746885e+00,  -3.06638484e-01,\n",
       "         1.40617614e+00,  -1.24969677e+00,  -1.56014889e+00,\n",
       "         1.55739765e+00,  -5.93356395e-01,  -1.70288512e-01,\n",
       "         1.67262681e+00,  -5.40799808e-01,  -6.84128329e-01,\n",
       "         5.99962086e-01,  -2.17199125e-01,   3.31526518e-01,\n",
       "        -3.83364580e-01,  -7.81816088e-01,   2.66237407e-01,\n",
       "         2.79428025e-01,  -1.21962570e+00,  -7.23948917e-01,\n",
       "        -1.73477831e+00,   2.71660784e-01,   9.91120169e-02,\n",
       "        -3.63089906e-01,  -5.88226728e-01,   2.59417135e-02,\n",
       "        -5.72302351e-01,   1.10558696e+00,  -1.20801559e+00,\n",
       "        -1.33970104e+00,   2.07518541e+00,  -1.48940970e+00,\n",
       "        -1.15095307e+00,   4.19059825e-01,   4.13405276e-01,\n",
       "         7.17576933e-01,   2.61724840e-01,  -2.42771271e-01,\n",
       "        -5.01268133e-01,  -6.98128979e-01,   1.38458016e+00,\n",
       "        -2.86425414e-01,   5.00069585e-01,   1.95110324e+00,\n",
       "        -2.78367462e-01,   3.67862586e-02,   4.45852506e-01,\n",
       "        -1.41035076e+00,   4.50001301e-01,   5.15479531e-01,\n",
       "        -1.15408394e+00,  -1.38017340e+00,  -4.95833005e-01,\n",
       "        -4.13279072e-01,  -1.71931667e+00,  -2.95609028e-02,\n",
       "        -7.66039884e-01,   9.98820765e-02,  -7.13023957e-01,\n",
       "        -2.22611762e+00,   7.25714153e-01,   9.16976283e-01,\n",
       "        -5.63890240e-01,  -1.52217956e+00,  -1.42787886e-02,\n",
       "        -2.46720807e-01,  -1.65329477e-01,   1.19113983e-01,\n",
       "        -2.07498049e+00,  -1.00275522e+00,   5.23546018e-01,\n",
       "         8.21517309e-01,  -1.48741849e-01,  -4.53704120e-02,\n",
       "        -7.04492926e-01,   1.73031552e+00,   2.28927256e-01,\n",
       "         1.09274106e+00,  -3.53571527e-01,  -3.06588649e-02,\n",
       "        -2.00171851e-01,  -4.81310239e-01,   1.71142600e+00,\n",
       "         1.43538709e+00,  -1.16752033e+00,   4.08434248e-02,\n",
       "         3.62018196e-01,   5.72592191e-01,   1.10446024e+00,\n",
       "        -4.25672027e-01,   7.55688843e-01,   1.02814572e-02,\n",
       "         2.24585771e-01,  -1.13470823e+00,  -9.51520941e-01,\n",
       "        -1.27130456e-01,   2.89444984e-02,   2.10407737e+00,\n",
       "         1.56751414e+00,  -6.24229633e-01,  -4.00644202e-01,\n",
       "        -1.13706154e+00,  -9.03159037e-01,  -1.09727806e+00,\n",
       "        -7.13092096e-02,  -1.31933909e+00,  -5.60092946e-01,\n",
       "         1.64954557e-01,  -6.31585788e-01,  -8.67069780e-01,\n",
       "        -1.00256267e+00,   1.20734820e+00,   1.71198701e+00,\n",
       "        -6.24589479e-01,  -2.12145804e-01,  -1.19356418e+00,\n",
       "         6.57585892e-01,   2.00079882e-01,   1.09125986e+00,\n",
       "        -4.89022058e-01,   1.36822026e+00,   8.91625118e-01,\n",
       "         8.37566212e-01,   5.14144713e-01,  -5.00496924e-02,\n",
       "         7.43952846e-01,  -1.72405020e+00,   8.99015733e-02,\n",
       "         3.22739562e-01,  -3.77149426e-01,  -2.20898302e-04,\n",
       "         1.05011369e+00,  -1.68699112e-01,   7.97876496e-01,\n",
       "         5.52524313e-01,  -1.15309326e+00,   1.64155219e+00,\n",
       "        -1.43897783e+00,   2.02773951e+00,  -1.36531732e+00,\n",
       "         7.21488624e-02,   6.13151678e-01,   1.48916643e+00,\n",
       "         2.21296575e-01,  -1.53089211e+00,   8.01888214e-01,\n",
       "        -4.24466713e-01,   1.11885497e+00,   1.56954806e+00,\n",
       "         1.42773177e+00,  -1.37183787e+00,  -2.66417893e-01,\n",
       "         7.79214565e-01,  -1.02814295e-01,  -5.86464622e-01,\n",
       "         2.40252655e-01,  -9.98055659e-01,   1.91169913e-01,\n",
       "        -9.52803022e-01,   1.47099658e+00,   7.18904922e-01,\n",
       "        -1.66559577e-01,   7.64611297e-01,  -1.18944347e+00,\n",
       "        -5.34857264e-01,  -2.15978466e-02,  -1.10519159e+00,\n",
       "        -1.05594634e+00,   1.02135566e+00,   1.70965609e+00,\n",
       "         2.95619519e-02,   1.23842016e-01,   2.89430057e-01,\n",
       "        -3.01492244e-01,   4.14435011e-01,   9.49857901e-01,\n",
       "         5.21848542e-01,  -1.96926287e+00,   5.02810028e-01,\n",
       "        -3.54422439e-01,  -4.46990482e-01,  -1.11697839e+00,\n",
       "        -7.88266383e-01,   1.05575216e+00,  -1.30454121e+00,\n",
       "         5.39735237e-01,   3.46991250e-01,   8.74192893e-01,\n",
       "        -1.57517936e+00,  -1.59983656e-01,  -6.43333236e-01,\n",
       "        -7.15370887e-01,   1.69945893e+00,   1.28283722e+00,\n",
       "        -4.52557666e-01,   3.93800127e-01,   4.25740611e-01,\n",
       "        -1.30047432e-01,  -3.93733166e-01,  -6.41059774e-01,\n",
       "         1.71964255e-01,  -8.40149019e-01,   8.64998309e-01,\n",
       "        -2.04861332e-01,  -1.07073334e-01,  -2.42106685e-01,\n",
       "        -9.02482775e-01,   7.97870886e-01,  -2.89095788e-01,\n",
       "         6.76977613e-01,  -3.43184034e-01,   4.87210135e-01,\n",
       "         7.65665358e-01,  -2.20056444e+00,  -2.59606240e+00,\n",
       "         4.75674838e-01,  -1.59488565e+00,  -1.11007673e+00,\n",
       "        -9.98406496e-01,  -2.27580660e+00,   1.55280721e+00,\n",
       "        -1.14929877e+00,   1.88530629e-01,   9.88963783e-01,\n",
       "        -1.58613630e+00,  -4.72380876e-01,  -1.88846348e-01,\n",
       "         2.11127080e-01,   1.61172229e+00,   5.66730442e-01,\n",
       "        -6.41177253e-01,   1.53877394e+00,   3.09663986e-01,\n",
       "        -4.48848680e-01,   1.76910057e+00,   2.68200488e-01,\n",
       "        -1.46222506e+00,   1.85081017e+00,   1.70076951e+00,\n",
       "         3.53391056e-01,   3.36489021e-01,   1.05710543e+00,\n",
       "         1.19867872e+00,  -2.59465427e+00,  -7.14745374e-01,\n",
       "         8.04346042e-01,   1.19165535e+00,  -1.27365384e-01,\n",
       "        -1.07497527e+00,   1.44826913e+00,  -2.78354280e-01,\n",
       "        -1.03681866e+00,   2.01451466e-01,   5.01755799e-01,\n",
       "         1.61333492e+00,  -1.89771063e+00,   1.29908257e+00,\n",
       "         5.53184426e-01,  -2.00362296e-01,   5.45669995e-01,\n",
       "         2.62286619e-01,   2.19070210e-01,   9.32352932e-01,\n",
       "         1.74305243e+00,  -1.24703680e-01,   9.54031667e-01,\n",
       "         7.12050949e-01,  -5.79336657e-01,  -7.61819456e-01,\n",
       "         1.66150213e+00,   2.54769170e+00,  -3.89123240e-02,\n",
       "        -3.56409207e-01,  -1.86256865e+00,   2.65199912e+00,\n",
       "        -1.36230370e-01,   1.03749340e-01,   1.15432226e-01,\n",
       "         2.58670464e-01,   1.48774333e+00,   1.45434348e+00,\n",
       "         7.04308298e-01,   1.46635138e+00,   3.53622183e-01,\n",
       "        -1.08552346e+00,   3.63209761e-01,  -1.81327713e+00,\n",
       "        -1.97910760e-01,   4.32874592e-01,  -5.40565788e-01,\n",
       "         2.95630655e-01,   2.07984424e+00,  -1.84243292e+00,\n",
       "        -5.11166017e-01,  -5.80935128e-01,   1.06273647e+00,\n",
       "         1.80551097e-02,   2.27983997e-02,  -1.67979148e+00,\n",
       "         8.12423001e-01,  -6.25888706e-01,  -1.25027082e+00,\n",
       "         6.15135458e-01,  -1.21394611e-01,  -1.28089527e+00,\n",
       "         3.24609806e-01,   6.70569391e-01,   1.49161323e-01,\n",
       "         3.27063804e-01,  -3.52961690e-01,  -9.05527640e-01,\n",
       "         1.67618543e+00,   6.80996008e-01,  -7.03717611e-01,\n",
       "         1.02079749e-01,   1.19505614e+00,  -2.77959386e-01,\n",
       "        -5.21652916e-02,   3.53683601e-01,  -4.08310762e-01,\n",
       "        -1.81042967e+00,  -9.03308062e-01,   1.05404509e+00,\n",
       "        -9.80876877e-01,   3.52078891e-01,   6.65981840e-01,\n",
       "         1.06550150e+00,  -2.28433613e-01,   3.64483904e-01,\n",
       "        -1.51484666e+00,  -7.52612872e-02,  -2.97058082e-01,\n",
       "        -7.27414382e-01,  -2.45875340e-01,  -1.27948942e-01,\n",
       "        -3.69310620e-01,  -2.62300428e+00,   2.11585073e+00,\n",
       "         6.85561585e-01,  -1.57443985e-01,   1.38128777e+00,\n",
       "         6.84265587e-02,   3.12536292e-01,   4.54253185e-01,\n",
       "        -7.88471875e-01,  -6.58403343e-02,  -1.41847985e+00,\n",
       "        -1.39753340e-01,  -5.55354856e-01,  -5.01917779e-01,\n",
       "         6.93118522e-01,  -2.45360497e-01,  -1.26943186e+00,\n",
       "        -2.62323855e-01,   2.33759848e+00,  -7.81717438e-01,\n",
       "         8.00997455e-02,  -1.33941112e+00,   4.13450964e-01,\n",
       "         2.04451967e-01,   4.78453295e-01,   2.95809710e-02,\n",
       "        -1.82441984e-01,   1.74666751e-02,   2.05428953e+00,\n",
       "        -2.53188331e+00,   4.23814684e-01,  -9.55683516e-01,\n",
       "        -1.33674210e-01,  -1.07740332e+00,   1.24990251e+00,\n",
       "         5.71148753e-01,   2.97048429e-01,   8.71865218e-01,\n",
       "        -1.63711197e-01,   6.89523199e-01,   1.98458990e+00,\n",
       "        -1.18281885e-01,   9.55129919e-01,  -1.18055289e+00,\n",
       "         1.47047394e+00,  -2.15578836e-02,   7.10861471e-01,\n",
       "        -8.11835052e-01,  -2.25121307e+00,  -1.12610019e+00,\n",
       "        -3.07866746e-01,  -9.61884536e-01,   6.70825959e-01,\n",
       "         6.33834266e-02,  -6.56795880e-01,  -2.88363182e-01,\n",
       "        -2.19793496e-01,   2.00247961e-01,  -8.45500241e-01,\n",
       "         2.64292268e+00,  -3.33744771e-01,  -1.45508360e-01,\n",
       "         8.93368708e-01,   1.28855474e+00,   3.31198188e-01,\n",
       "        -7.53678981e-02,  -6.11476555e-02,   1.85605687e+00,\n",
       "        -7.53041282e-01,  -3.40225870e-01,  -5.50996039e-01,\n",
       "        -6.04037326e-01,   2.12258996e+00,   2.03055207e-02,\n",
       "        -8.66260054e-01,  -3.55888386e-01,  -9.54342311e-01,\n",
       "         1.59146411e+00,   5.87338037e-04,  -4.64031732e-01,\n",
       "        -1.52371079e+00,   1.54870365e-01,  -8.40649344e-01,\n",
       "         1.06857825e-02,  -5.43740390e-01,   6.75455344e-01,\n",
       "        -9.73342213e-01,   8.18348102e-01,  -1.16017285e-01,\n",
       "        -6.90858214e-01,   1.03895548e+00,   9.81271848e-01,\n",
       "         6.16620804e-01,  -7.87487032e-01,   2.08567368e-02,\n",
       "         5.99339905e-01,  -3.78195263e-01,  -5.54687669e-02,\n",
       "         1.98348805e+00,   7.78880280e-02,   4.04584414e-01,\n",
       "        -8.49009510e-01,  -7.80897991e-02,  -5.27312241e-01,\n",
       "        -2.42687934e-01,   1.10694985e+00,  -3.55299151e-02,\n",
       "        -9.59914984e-01,  -6.28950975e-01,   2.68514823e-01,\n",
       "         4.88360813e-01,   5.86838602e-01,  -1.75392741e-01,\n",
       "        -4.33426257e-01,   4.36720114e-02,  -2.36889293e+00,\n",
       "        -1.59272114e+00,  -2.44167074e+00,  -2.62733828e-01,\n",
       "        -8.22618319e-01,  -4.22683383e-02,  -3.91270201e-01,\n",
       "         2.30580500e-01,   3.28563893e-01,   8.38048584e-01,\n",
       "        -9.07881613e-01,  -4.17455133e-02,  -1.99433564e+00,\n",
       "         1.08164256e-01,  -5.89285689e-01,  -9.84980234e-01,\n",
       "        -1.03617740e+00,   2.03968604e+00,  -6.58757084e-01,\n",
       "        -6.07983561e-01,   8.66452902e-01,  -7.41469489e-01,\n",
       "        -1.47056147e+00,   7.08474121e-01,  -1.28512397e-01,\n",
       "        -1.60639830e-01,   1.07717021e+00,  -6.13397402e-01,\n",
       "        -7.11763631e-01,   6.54385393e-02,  -4.21470833e-01,\n",
       "        -3.41216884e-01,   1.31203651e+00,  -1.82293249e+00,\n",
       "         2.15375927e-01,  -6.70713328e-01,   2.59717474e-01,\n",
       "         4.69549427e-01,   4.92233110e-01,   5.12170528e-01,\n",
       "        -1.14202026e+00,  -1.14893864e-01,   1.26597492e+00,\n",
       "        -9.29230025e-01,   1.90915321e-01,   1.00155563e+00,\n",
       "        -9.74214904e-02,  -2.11959698e+00,  -2.19692174e+00,\n",
       "         1.12226787e+00,   2.01184202e+00,   3.02010747e-01,\n",
       "        -4.89661640e-01,  -5.13549095e-01,  -1.07392106e+00,\n",
       "         2.20351456e+00,  -2.98828457e-01,   1.34609833e+00,\n",
       "         6.26820481e-01,  -6.58107546e-02,  -1.84386521e+00,\n",
       "         1.09972543e-01,   2.00656113e+00,  -7.57850600e-01,\n",
       "         1.01599784e+00,  -1.59249315e+00,   2.92366538e-01,\n",
       "         1.33703214e+00,  -2.43253924e-01,  -2.31023566e-01,\n",
       "        -3.38929282e-01,   3.18616015e-01,   1.39703873e+00,\n",
       "        -8.79813049e-01,   1.11820478e-01,   4.31568126e-01,\n",
       "         1.61378510e+00,  -2.97384571e-01,   1.63896231e+00,\n",
       "         1.34096592e-01,   1.72037366e-01,  -1.36501715e+00,\n",
       "        -4.21265683e-01,   8.80640149e-01,  -1.47256655e+00,\n",
       "         7.57709729e-01,  -6.36605013e-01,  -1.58381607e-02,\n",
       "        -3.87814741e-01,   8.89663415e-01,   1.13415717e+00,\n",
       "         1.73163020e+00,  -7.05519845e-01,  -1.28581043e+00,\n",
       "        -6.38210058e-01,   7.00784796e-01,   8.81140523e-01,\n",
       "        -6.53203810e-01,  -1.31996590e+00,  -8.18712604e-01,\n",
       "         1.62702211e-01,   6.69759991e-01,  -5.74080419e-01,\n",
       "         7.43687120e-01,   6.16712620e-01,   9.71866834e-01,\n",
       "        -7.11903517e-01,  -7.35692785e-01,  -9.63463783e-01,\n",
       "         4.59137703e-01,   6.56238206e-01,   7.51503477e-01,\n",
       "        -1.87218361e+00,  -5.56280061e-01,   2.72163966e-01,\n",
       "         9.31545753e-01,   3.27532331e-01,   7.40813801e-01,\n",
       "        -8.01905048e-01])"
      ]
     },
     "execution_count": 72,
     "metadata": {},
     "output_type": "execute_result"
    }
   ],
   "source": [
    "random2 = norm.rvs(size=1000, random_state=1234)\n",
    "random2"
   ]
  },
  {
   "cell_type": "code",
   "execution_count": 73,
   "metadata": {
    "collapsed": false
   },
   "outputs": [
    {
     "name": "stdout",
     "output_type": "stream",
     "text": [
      "Number of elements: 1000\n",
      "Minimum: -3.563517 Maximum: 2.763844\n",
      "Mean: 0.015741\n",
      "Variance: 0.947806\n",
      "Skew : -0.023717\n",
      "Kurtosis: 0.027697\n"
     ]
    }
   ],
   "source": [
    "n, min_max, mean, var, skew, kurt = stats.describe(random2)\n",
    "print(\"Number of elements: {0:d}\".format(n))\n",
    "print(\"Minimum: {0:8.6f} Maximum: {1:8.6f}\".format(min_max[0], min_max[1]))\n",
    "print(\"Mean: {0:8.6f}\".format(mean))\n",
    "print(\"Variance: {0:8.6f}\".format(var))\n",
    "print(\"Skew : {0:8.6f}\".format(skew))\n",
    "print(\"Kurtosis: {0:8.6f}\".format(kurt))"
   ]
  },
  {
   "cell_type": "code",
   "execution_count": 74,
   "metadata": {
    "collapsed": false
   },
   "outputs": [
    {
     "data": {
      "text/plain": [
       "<function matplotlib.pyplot.show>"
      ]
     },
     "execution_count": 74,
     "metadata": {},
     "output_type": "execute_result"
    },
    {
     "data": {
      "image/png": "[encoded data removed]",
      "text/plain": [
       "<matplotlib.figure.Figure at 0x112382450>"
      ]
     },
     "metadata": {},
     "output_type": "display_data"
    }
   ],
   "source": [
    "%matplotlib inline\n",
    "plt.hist(random2)\n",
    "plt.show"
   ]
  },
  {
   "cell_type": "markdown",
   "metadata": {},
   "source": [
    "###### Skewness refers to how symmetrical the graph is. A graph that is skewed to the left is negative skew which means the mean is lower than the median. Likewise, a graph that is skewed to the right means a positive skew where the mean is higher than the median. The graph for random shows a negative skew. The graph for random also shows a higher kurtosis which means the graph is more peaked. As we increase the random size from 100 to 1000, the distribution comes closer to the normal distribution."
   ]
  }
 ],
 "metadata": {
  "kernelspec": {
   "display_name": "Python 2",
   "language": "python",
   "name": "python2"
  },
  "language_info": {
   "codemirror_mode": {
    "name": "ipython",
    "version": 2
   },
   "file_extension": ".py",
   "mimetype": "text/x-python",
   "name": "python",
   "nbconvert_exporter": "python",
   "pygments_lexer": "ipython2",
   "version": "2.7.11"
  }
 },
 "nbformat": 4,
 "nbformat_minor": 0
}
